{
 "cells": [
  {
   "cell_type": "code",
   "execution_count": 1,
   "metadata": {
    "collapsed": true
   },
   "outputs": [],
   "source": [
    "import numpy as np\n",
    "import pandas as pd\n",
    "import itertools\n",
    "from sklearn.base import BaseEstimator, ClassifierMixin\n",
    "from sklearn.utils.validation import check_X_y, check_array, check_is_fitted\n",
    "from sklearn.utils.multiclass import unique_labels\n",
    "from sklearn.metrics import euclidean_distances\n",
    "from collections import Counter\n",
    "\n",
    "class BagOShapesClassifier(BaseEstimator, ClassifierMixin):\n",
    "\n",
    "    def __init__(self):\n",
    "        self.dummy = \"dummy\"\n",
    "\n",
    "    #def check_X(self, X):\n",
    "        #Is this in the correct format?\n",
    "        #The inputs need to have been individually changed so that the mean is 0 and the std dev is 1\n",
    "\n",
    "    def GenerateSparseDF(self):\n",
    "        possibilities = []\n",
    "        for combination in itertools.product(list(self.SAXparameters.keys()), repeat=self.SAXstringlength):\n",
    "            possibilities.append(''.join(map(str, combination)))\n",
    "        sparseDF = pd.DataFrame(index=possibilities)\n",
    "        return sparseDF\n",
    "\n",
    "    def chunkify(self, lst, n):\n",
    "        return [ lst[i::n] for i in range(n) ]\n",
    "\n",
    "    def SAXconvert(self, lst):\n",
    "        saxString = ''\n",
    "        #This is custom SAX threshold logic. I need to figure out a way to make this configurable somehow.\n",
    "        for i in lst:\n",
    "            for char in self.SAXparameters:\n",
    "                tempFlag = True\n",
    "                if self.SAXparameters[char]:\n",
    "                    if i > self.SAXparameters[char]:\n",
    "                        saxString += char\n",
    "                        tempFlag = False\n",
    "                        break\n",
    "            if tempFlag:\n",
    "                saxString += char\n",
    "        return saxString\n",
    "\n",
    "    def GetSAXCounts(self, data):\n",
    "        newLength = (len(data)-(len(data)%self.SAXstringlength))\n",
    "        data = data.loc[0:newLength]\n",
    "        numChunks = int(len(data)/self.SAXstringlength)\n",
    "        chunks = self.chunkify(data['Scaled'], numChunks)\n",
    "        SAXStringCounts = pd.DataFrame.from_dict(Counter([ self.SAXconvert(chunk) for chunk in chunks ]), orient='index')\n",
    "        return SAXStringCounts\n",
    "\n",
    "    def coefCalculation(self):\n",
    "        zeroDistances = euclidean_distances(self.sparseSAXMatrix.transpose(), self.sparseSAXMatrix.transpose())\n",
    "        zeroDistances = np.concatenate(zeroDistances).tolist()\n",
    "        self.distances = list(filter(lambda a: a != 0, zeroDistances))\n",
    "        return np.mean(self.distances), np.std(self.distances)\n",
    "\n",
    "    def fit(self, X_list, SAXparameters, SAXstringlength, std_devSensitivity):\n",
    "        #X = self.check_X(X)\n",
    "        self.SAXparameters = SAXparameters\n",
    "        self.SAXstringlength = SAXstringlength\n",
    "        self.sensitivity = std_devSensitivity\n",
    "        self.Xlist_ = X_list\n",
    "        self.sparseSAXMatrix = self.GenerateSparseDF()\n",
    "        iterator = 0\n",
    "        for timeSeries in self.Xlist_:\n",
    "            SAXdf = self.GetSAXCounts(timeSeries)\n",
    "            SAXdf.rename(index=str, columns={0:str(iterator)}, inplace=True)\n",
    "            self.sparseSAXMatrix = self.sparseSAXMatrix.merge(SAXdf, how='left', left_index=True, right_index=True)\n",
    "            iterator += 1\n",
    "\n",
    "        self.sparseSAXMatrix.fillna(0, inplace=True) \n",
    "        self.avg_codistance, self.std_dev = self.coefCalculation()\n",
    "        return self\n",
    "\n",
    "    def predict(self, X):\n",
    "        #I'm pretty sure that I have everything set up, now it's just deliver the prediction with the new input data!\n",
    "        # Check is fit had been called\n",
    "        #check_is_fitted(self, ['X_', 'y_'])\n",
    "\n",
    "        # Input validation\n",
    "        #X = check_array(X)\n",
    "        classification = True\n",
    "        SAXdf = self.GetSAXCounts(X)\n",
    "        SAXdf.rename(index=str, columns={0:'input'}, inplace=True)\n",
    "        SAXtestdf = self.sparseSAXMatrix.merge(SAXdf, how='left', left_index=True, right_index=True)\n",
    "        SAXtestdf.fillna(0, inplace=True)\n",
    "        distances = euclidean_distances(SAXtestdf.transpose(), SAXtestdf.transpose())[-1].tolist()\n",
    "        distances = list(filter(lambda a: a != 0, distances))\n",
    "        avg = np.mean(distances)\n",
    "        std_devs = np.abs(avg - self.avg_codistance)/self.std_dev\n",
    "        if std_devs > self.sensitivity:\n",
    "            classification = False\n",
    "\n",
    "        #TODO: calculate confidence and use that for sensitivity instead of #of std devs\n",
    "        \n",
    "        return {\n",
    "                'classification': classification,\n",
    "                'confidence': np.nan\n",
    "                }"
   ]
  },
  {
   "cell_type": "code",
   "execution_count": 2,
   "metadata": {},
   "outputs": [
    {
     "data": {
      "text/plain": [
       "BagOShapesClassifier()"
      ]
     },
     "execution_count": 2,
     "metadata": {},
     "output_type": "execute_result"
    }
   ],
   "source": [
    "SAXcharacters = {\n",
    "                    \"a\": 4.5, \n",
    "                    \"b\": 2.5,\n",
    "                    \"c\": 1.5,\n",
    "                    \"d\": .5,\n",
    "                    \"e\": 0,\n",
    "                    \"f\": -.75,\n",
    "                    \"g\": -1.75,\n",
    "                    \"h\": False\n",
    "                }\n",
    "\n",
    "GoodData = []\n",
    "\n",
    "for file in [\n",
    "        \"C:\\DataScience\\predictive-maintenance\\DataExtracts\\PumpData\\GoodNormalized0.csv\",\n",
    "        \"C:\\DataScience\\predictive-maintenance\\DataExtracts\\PumpData\\GoodNormalized1.csv\",\n",
    "        \"C:\\DataScience\\predictive-maintenance\\DataExtracts\\PumpData\\GoodNormalized2.csv\",\n",
    "        \"C:\\DataScience\\predictive-maintenance\\DataExtracts\\PumpData\\GoodNormalized3.csv\",\n",
    "        \"C:\\DataScience\\predictive-maintenance\\DataExtracts\\PumpData\\GoodNormalized4.csv\"\n",
    "    ]:\n",
    "    GoodData.append(pd.read_csv(file))\n",
    "\n",
    "model = BagOShapesClassifier()\n",
    "model.fit(X_list=GoodData, SAXparameters=SAXcharacters, SAXstringlength=4, std_devSensitivity=2)"
   ]
  },
  {
   "cell_type": "code",
   "execution_count": 3,
   "metadata": {},
   "outputs": [
    {
     "data": {
      "text/plain": [
       "{'classification': True, 'confidence': nan}"
      ]
     },
     "execution_count": 3,
     "metadata": {},
     "output_type": "execute_result"
    }
   ],
   "source": [
    "model.predict(pd.read_csv(\"C:\\DataScience\\predictive-maintenance\\DataExtracts\\PumpData\\GoodNormalized1.csv\"))"
   ]
  },
  {
   "cell_type": "code",
   "execution_count": null,
   "metadata": {
    "collapsed": true
   },
   "outputs": [],
   "source": []
  }
 ],
 "metadata": {
  "kernelspec": {
   "display_name": "Python 3",
   "language": "python",
   "name": "python3"
  },
  "language_info": {
   "codemirror_mode": {
    "name": "ipython",
    "version": 3
   },
   "file_extension": ".py",
   "mimetype": "text/x-python",
   "name": "python",
   "nbconvert_exporter": "python",
   "pygments_lexer": "ipython3",
   "version": "3.6.2"
  }
 },
 "nbformat": 4,
 "nbformat_minor": 2
}
